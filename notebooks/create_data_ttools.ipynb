{
 "cells": [
  {
   "cell_type": "code",
   "execution_count": 4,
   "id": "bacterial-connecticut",
   "metadata": {},
   "outputs": [
    {
     "name": "stderr",
     "output_type": "stream",
     "text": [
      "Failed to detect the name of this notebook, you can set it manually with the WANDB_NOTEBOOK_NAME environment variable to enable code saving.\n",
      "\u001b[34m\u001b[1mwandb\u001b[0m: Currently logged in as: \u001b[33maaac\u001b[0m (use `wandb login --relogin` to force relogin)\n"
     ]
    },
    {
     "data": {
      "text/html": [
       "\n",
       "                Tracking run with wandb version 0.10.27<br/>\n",
       "                Syncing run <strong style=\"color:#cdcd00\">chocolate-wood-67</strong> to <a href=\"https://wandb.ai\" target=\"_blank\">Weights & Biases</a> <a href=\"https://docs.wandb.com/integrations/jupyter.html\" target=\"_blank\">(Documentation)</a>.<br/>\n",
       "                Project page: <a href=\"https://wandb.ai/aaac/uncategorized\" target=\"_blank\">https://wandb.ai/aaac/uncategorized</a><br/>\n",
       "                Run page: <a href=\"https://wandb.ai/aaac/uncategorized/runs/294tk7hd\" target=\"_blank\">https://wandb.ai/aaac/uncategorized/runs/294tk7hd</a><br/>\n",
       "                Run data is saved locally in <code>/pfs/data5/home/kit/itz/kz1174/wandb/run-20210428_101257-294tk7hd</code><br/><br/>\n",
       "            "
      ],
      "text/plain": [
       "<IPython.core.display.HTML object>"
      ]
     },
     "metadata": {},
     "output_type": "display_data"
    },
    {
     "data": {
      "text/html": [
       "<br/>Waiting for W&B process to finish, PID 4096954<br/>Program ended successfully."
      ],
      "text/plain": [
       "<IPython.core.display.HTML object>"
      ]
     },
     "metadata": {},
     "output_type": "display_data"
    },
    {
     "data": {
      "application/vnd.jupyter.widget-view+json": {
       "model_id": "",
       "version_major": 2,
       "version_minor": 0
      },
      "text/plain": [
       "VBox(children=(Label(value=' 0.00MB of 0.00MB uploaded (0.00MB deduped)\\r'), FloatProgress(value=1.0, max=1.0)…"
      ]
     },
     "metadata": {},
     "output_type": "display_data"
    },
    {
     "data": {
      "text/html": [
       "Find user logs for this run at: <code>/pfs/data5/home/kit/itz/kz1174/wandb/run-20210428_101257-294tk7hd/logs/debug.log</code>"
      ],
      "text/plain": [
       "<IPython.core.display.HTML object>"
      ]
     },
     "metadata": {},
     "output_type": "display_data"
    },
    {
     "data": {
      "text/html": [
       "Find internal logs for this run at: <code>/pfs/data5/home/kit/itz/kz1174/wandb/run-20210428_101257-294tk7hd/logs/debug-internal.log</code>"
      ],
      "text/plain": [
       "<IPython.core.display.HTML object>"
      ]
     },
     "metadata": {},
     "output_type": "display_data"
    },
    {
     "data": {
      "text/html": [
       "Synced 4 W&B file(s), 0 media file(s), 0 artifact file(s) and 0 other file(s)"
      ],
      "text/plain": [
       "<IPython.core.display.HTML object>"
      ]
     },
     "metadata": {},
     "output_type": "display_data"
    },
    {
     "data": {
      "text/html": [
       "\n",
       "                    <br/>Synced <strong style=\"color:#cdcd00\">chocolate-wood-67</strong>: <a href=\"https://wandb.ai/aaac/uncategorized/runs/294tk7hd\" target=\"_blank\">https://wandb.ai/aaac/uncategorized/runs/294tk7hd</a><br/>\n",
       "                "
      ],
      "text/plain": [
       "<IPython.core.display.HTML object>"
      ]
     },
     "metadata": {},
     "output_type": "display_data"
    }
   ],
   "source": [
    "import wandb\n",
    "with wandb.init() as run: \n",
    "  artifact = run.use_artifact(\n",
    "  #'aaac/aaac_model_runs/aaac_raw:v2', \n",
    "  \"aaac/dataset_versions/aaac_multi_angle:v14\",\n",
    "  type='dataset'\n",
    "  )\n",
    "\n",
    "artifact_dir = artifact.download()"
   ]
  },
  {
   "cell_type": "code",
   "execution_count": 5,
   "id": "classical-killing",
   "metadata": {},
   "outputs": [
    {
     "name": "stderr",
     "output_type": "stream",
     "text": [
      "Using custom data configuration default-9ab1507cf0173569\n",
      "Reusing dataset json (/home/kit/itz/kz1174/.cache/huggingface/datasets/json/default-9ab1507cf0173569/0.0.0/83d5b3a2f62630efc6b5315f00f20209b4ad91a00ac586597caee3a4da0bef02)\n"
     ]
    },
    {
     "data": {
      "text/plain": [
       "DatasetDict({\n",
       "    train: Dataset({\n",
       "        features: ['argument_source', 'argdown_reconstruction', 'reason_statements', 'conclusion_statements', 'premises', 'premises_formalized', 'conclusion', 'conclusion_formalized', 'intermediary_conclusions_formalized', 'intermediary_conclusions', 'distractors', 'id', 'predicate_placeholders', 'entity_placeholders', 'steps', 'n_premises', 'n_distractors', 'base_scheme_groups', 'scheme_variants', 'domain_id', 'domain_type', 'plcd_subs', 'argdown_index_map', 'presentation_parameters'],\n",
       "        num_rows: 10000\n",
       "    })\n",
       "})"
      ]
     },
     "execution_count": 5,
     "metadata": {},
     "output_type": "execute_result"
    }
   ],
   "source": [
    "from datasets import load_dataset\n",
    "import os\n",
    "#dataset = load_dataset('json', data_files=os.path.join(artifact_dir,\"aaac.jsonl\"))\n",
    "dataset = load_dataset('json', data_files=os.path.join(artifact_dir,\"pre_aaac-20210427_informal_no-lmpara.jsonl\"))\n",
    "\n",
    "dataset"
   ]
  },
  {
   "cell_type": "code",
   "execution_count": 50,
   "id": "liable-portfolio",
   "metadata": {},
   "outputs": [
    {
     "data": {
      "application/vnd.jupyter.widget-view+json": {
       "model_id": "a5788d17454c4ae7b991dc4b1ae563a5",
       "version_major": 2,
       "version_minor": 0
      },
      "text/plain": [
       "HBox(children=(FloatProgress(value=0.0, max=10.0), HTML(value='')))"
      ]
     },
     "metadata": {},
     "output_type": "display_data"
    },
    {
     "name": "stdout",
     "output_type": "stream",
     "text": [
      "\n"
     ]
    }
   ],
   "source": [
    "filtered_dataset = dataset.filter(lambda example: not \"complex variant\" in example['scheme_variants'])\n",
    "filtered_dataset = dataset #no filter"
   ]
  },
  {
   "cell_type": "code",
   "execution_count": 81,
   "id": "listed-sister",
   "metadata": {},
   "outputs": [
    {
     "data": {
      "text/plain": [
       "DatasetDict({\n",
       "    train: Dataset({\n",
       "        features: ['argument_source', 'argdown_reconstruction', 'reason_statements', 'conclusion_statements', 'premises', 'premises_formalized', 'conclusion', 'conclusion_formalized', 'intermediary_conclusions_formalized', 'intermediary_conclusions', 'distractors', 'id', 'predicate_placeholders', 'entity_placeholders', 'steps', 'n_premises', 'n_distractors', 'base_scheme_groups', 'scheme_variants', 'domain_id', 'domain_type', 'plcd_subs', 'argdown_index_map', 'presentation_parameters'],\n",
       "        num_rows: 10000\n",
       "    })\n",
       "})"
      ]
     },
     "execution_count": 81,
     "metadata": {},
     "output_type": "execute_result"
    }
   ],
   "source": [
    "filtered_dataset"
   ]
  },
  {
   "cell_type": "code",
   "execution_count": 65,
   "id": "norwegian-guitar",
   "metadata": {},
   "outputs": [],
   "source": [
    "max_input_length = 1024\n",
    "max_target_length = 128\n",
    "\n",
    "def preprocess_function(examples,source_additional,target):\n",
    "    \n",
    "    source_additional_list = []\n",
    "    if source_additional == \"\":\n",
    "        source_additional_list = [\"\"]*len(examples[\"argument_source\"])\n",
    "    else:\n",
    "        for instance in examples[source_additional]:\n",
    "            if not (source_additional==\"argdown_reconstruction\"):\n",
    "                text = \"\"\n",
    "                for j,element in enumerate(instance):\n",
    "                    text+= \" \" + element[\"text\"] + \" {ref: (\" + str(element[\"ref_reco\"]) + \")} |\"\n",
    "                source_additional_list.append(\" \" + source_additional + \":\" + text)\n",
    "            else:\n",
    "                source_additional_list.append(\" \" + source_additional + \": \" + instance)\n",
    "                \n",
    "    for i,element in enumerate(source_additional_list):\n",
    "        source_additional_list[i]+=\" \" + target + \":\"\n",
    "        \n",
    "    \n",
    "    target_list = []\n",
    "    for instance in examples[target]:\n",
    "        if not (target == \"argdown_reconstruction\"):\n",
    "            text = \"\"\n",
    "            for j,element in enumerate(instance):\n",
    "                text+= \" \" + element[\"text\"] + \" {ref: (\" + str(element[\"ref_reco\"]) + \")} |\"\n",
    "            target_list.append(text)\n",
    "        else:\n",
    "            target_list.append(instance) \n",
    "    \n",
    "\n",
    "    inputs = [\"argument_source: \" + instance + source_additional_list[i] for i,instance in enumerate(examples[\"argument_source\"])]\n",
    "    #model_inputs = tokenizer(inputs, truncation=True)\n",
    "\n",
    "    # Setup the tokenizer for targets\n",
    "    \n",
    "    #with tokenizer.as_target_tokenizer():\n",
    "    #    labels = tokenizer(target_list,  truncation=True)\n",
    "\n",
    "    argdown = {}\n",
    "    argdown[\"id\"] = examples[\"id\"]\n",
    "    #argdown[\"question\"] = {}\n",
    "    argdown[\"question\"] = inputs ##<-- input \n",
    "    argdown[\"output\"] = target_list##<-- output \n",
    "    argdown[\"prefix\"] = [\"gen:\"] * len(target_list) ##<-- important, indicates that we will measure accuracy\n",
    "    return argdown\n"
   ]
  },
  {
   "cell_type": "code",
   "execution_count": 48,
   "id": "canadian-julian",
   "metadata": {},
   "outputs": [],
   "source": [
    "\n",
    "def preprocess_function_no_source(examples):\n",
    "    \n",
    "    reason_statements_list = []\n",
    "\n",
    "    for instance in examples[\"reason_statements\"]:\n",
    "        text = \"\"\n",
    "        for j,element in enumerate(instance):\n",
    "            text+= \" \" + element[\"text\"] + \" {ref: (\" + str(element[\"ref_reco\"]) + \")} |\"\n",
    "        reason_statements_list.append(\"reason_statements\" + \":\" + text)\n",
    "    \n",
    "    conclusion_statements_list = []\n",
    "\n",
    "    for instance in examples[\"conclusion_statements\"]:\n",
    "        text = \"\"\n",
    "        for j,element in enumerate(instance):\n",
    "            text+= \" \" + element[\"text\"] + \" {ref: (\" + str(element[\"ref_reco\"]) + \")} |\"\n",
    "        conclusion_statements_list.append(\"conclusion_statements\" + \":\" + text)\n",
    "\n",
    "                \n",
    "                     \n",
    "    for i,element in enumerate(conclusion_statements_list):\n",
    "        conclusion_statements_list[i]+= \" \" + \"argdown_reconstruction\" + \":\"\n",
    "        \n",
    "    \n",
    "    target_list = []\n",
    "    for instance in examples[\"argdown_reconstruction\"]:\n",
    "        target_list.append(instance) \n",
    "    \n",
    "\n",
    "    inputs = [reason_statements_list[i] + \" \" + conclusion_statements_list[i] for i,instance in enumerate(reason_statements_list)]\n",
    "    #model_inputs = tokenizer(inputs, truncation=True)\n",
    "\n",
    "    # Setup the tokenizer for targets\n",
    "    \n",
    "    #with tokenizer.as_target_tokenizer():\n",
    "    #    labels = tokenizer(target_list,  truncation=True)\n",
    "\n",
    "    argdown = {}\n",
    "    argdown[\"id\"] = examples[\"id\"]\n",
    "    #argdown[\"question\"] = {}\n",
    "    argdown[\"question\"]= inputs ##<-- input \n",
    "    argdown[\"output\"] = target_list##<-- output \n",
    "    argdown[\"prefix\"] = [\"gen:\"] * len(target_list) ##<-- important, indicates that we will measure accuracy\n",
    "    return argdown\n"
   ]
  },
  {
   "cell_type": "code",
   "execution_count": 82,
   "id": "south-double",
   "metadata": {},
   "outputs": [
    {
     "data": {
      "application/vnd.jupyter.widget-view+json": {
       "model_id": "bf8be4781304491e94096d6e344bf853",
       "version_major": 2,
       "version_minor": 0
      },
      "text/plain": [
       "HBox(children=(FloatProgress(value=0.0, max=10.0), HTML(value='')))"
      ]
     },
     "metadata": {},
     "output_type": "display_data"
    },
    {
     "name": "stdout",
     "output_type": "stream",
     "text": [
      "\n"
     ]
    },
    {
     "data": {
      "application/vnd.jupyter.widget-view+json": {
       "model_id": "d8688360c073454fa403d73c0d682287",
       "version_major": 2,
       "version_minor": 0
      },
      "text/plain": [
       "HBox(children=(FloatProgress(value=0.0, max=10.0), HTML(value='')))"
      ]
     },
     "metadata": {},
     "output_type": "display_data"
    },
    {
     "name": "stdout",
     "output_type": "stream",
     "text": [
      "\n"
     ]
    },
    {
     "data": {
      "application/vnd.jupyter.widget-view+json": {
       "model_id": "053c17b6d1eb44d8bf00320a9f62d238",
       "version_major": 2,
       "version_minor": 0
      },
      "text/plain": [
       "HBox(children=(FloatProgress(value=0.0, max=10.0), HTML(value='')))"
      ]
     },
     "metadata": {},
     "output_type": "display_data"
    },
    {
     "name": "stdout",
     "output_type": "stream",
     "text": [
      "\n"
     ]
    },
    {
     "data": {
      "application/vnd.jupyter.widget-view+json": {
       "model_id": "4f7e43ff30f94137a7c0b0be2e797912",
       "version_major": 2,
       "version_minor": 0
      },
      "text/plain": [
       "HBox(children=(FloatProgress(value=0.0, max=10.0), HTML(value='')))"
      ]
     },
     "metadata": {},
     "output_type": "display_data"
    },
    {
     "name": "stdout",
     "output_type": "stream",
     "text": [
      "\n"
     ]
    },
    {
     "data": {
      "application/vnd.jupyter.widget-view+json": {
       "model_id": "6621a30196f147ca9bddedea9686f7f2",
       "version_major": 2,
       "version_minor": 0
      },
      "text/plain": [
       "HBox(children=(FloatProgress(value=0.0, max=10.0), HTML(value='')))"
      ]
     },
     "metadata": {},
     "output_type": "display_data"
    },
    {
     "name": "stdout",
     "output_type": "stream",
     "text": [
      "\n"
     ]
    },
    {
     "data": {
      "application/vnd.jupyter.widget-view+json": {
       "model_id": "5488c0f42d024b10be5a6355d3c0ba9b",
       "version_major": 2,
       "version_minor": 0
      },
      "text/plain": [
       "HBox(children=(FloatProgress(value=0.0, max=10.0), HTML(value='')))"
      ]
     },
     "metadata": {},
     "output_type": "display_data"
    },
    {
     "name": "stdout",
     "output_type": "stream",
     "text": [
      "\n"
     ]
    },
    {
     "data": {
      "application/vnd.jupyter.widget-view+json": {
       "model_id": "e87d2a0304b248f4a9c471da9e64a65e",
       "version_major": 2,
       "version_minor": 0
      },
      "text/plain": [
       "HBox(children=(FloatProgress(value=0.0, max=10.0), HTML(value='')))"
      ]
     },
     "metadata": {},
     "output_type": "display_data"
    },
    {
     "name": "stdout",
     "output_type": "stream",
     "text": [
      "\n"
     ]
    },
    {
     "data": {
      "application/vnd.jupyter.widget-view+json": {
       "model_id": "b6c86a06bb6d48f792c515fb53fdf8d7",
       "version_major": 2,
       "version_minor": 0
      },
      "text/plain": [
       "HBox(children=(FloatProgress(value=0.0, max=10.0), HTML(value='')))"
      ]
     },
     "metadata": {},
     "output_type": "display_data"
    },
    {
     "name": "stdout",
     "output_type": "stream",
     "text": [
      "\n"
     ]
    },
    {
     "data": {
      "application/vnd.jupyter.widget-view+json": {
       "model_id": "115a589f138f46ff886586aac99d593f",
       "version_major": 2,
       "version_minor": 0
      },
      "text/plain": [
       "HBox(children=(FloatProgress(value=0.0, max=10.0), HTML(value='')))"
      ]
     },
     "metadata": {},
     "output_type": "display_data"
    },
    {
     "name": "stdout",
     "output_type": "stream",
     "text": [
      "\n"
     ]
    },
    {
     "data": {
      "application/vnd.jupyter.widget-view+json": {
       "model_id": "bc87763d55b342b7ba53101e65248da9",
       "version_major": 2,
       "version_minor": 0
      },
      "text/plain": [
       "HBox(children=(FloatProgress(value=0.0, max=10.0), HTML(value='')))"
      ]
     },
     "metadata": {},
     "output_type": "display_data"
    },
    {
     "name": "stdout",
     "output_type": "stream",
     "text": [
      "\n"
     ]
    }
   ],
   "source": [
    "from datasets import concatenate_datasets, load_dataset\n",
    "\n",
    "\n",
    "processed_dataset = concatenate_datasets([filtered_dataset.map(lambda example: preprocess_function(example,\"\",\"argdown_reconstruction\"),batched=True)[\"train\"],\n",
    "                                         filtered_dataset.map(lambda example: preprocess_function(example,\"reason_statements\",\"argdown_reconstruction\"),batched=True)[\"train\"],\n",
    "                                         filtered_dataset.map(lambda example: preprocess_function(example,\"conclusion_statements\",\"argdown_reconstruction\"),batched=True)[\"train\"],\n",
    "                                         filtered_dataset.map(lambda example: preprocess_function(example,\"\",\"reason_statements\"),batched=True)[\"train\"],\n",
    "                                         filtered_dataset.map(lambda example: preprocess_function(example,\"argdown_reconstruction\",\"reason_statements\"),batched=True)[\"train\"],\n",
    "                                         filtered_dataset.map(lambda example: preprocess_function(example,\"conclusion_statements\",\"reason_statements\"),batched=True)[\"train\"],\n",
    "                                         filtered_dataset.map(lambda example: preprocess_function(example,\"\",\"conclusion_statements\"),batched=True)[\"train\"],\n",
    "                                         filtered_dataset.map(lambda example: preprocess_function(example,\"argdown_reconstruction\",\"conclusion_statements\"),batched=True)[\"train\"],\n",
    "                                         filtered_dataset.map(lambda example: preprocess_function(example,\"reason_statements\",\"conclusion_statements\"),batched=True)[\"train\"],\n",
    "                                        filtered_dataset.map(lambda example: preprocess_function_no_source(example),batched=True)[\"train\"]])"
   ]
  },
  {
   "cell_type": "code",
   "execution_count": 52,
   "id": "frequent-naples",
   "metadata": {},
   "outputs": [
    {
     "data": {
      "text/plain": [
       "Dataset({\n",
       "    features: ['argdown_index_map', 'argdown_reconstruction', 'argument_source', 'base_scheme_groups', 'conclusion', 'conclusion_formalized', 'conclusion_statements', 'distractors', 'domain_id', 'domain_type', 'entity_placeholders', 'id', 'intermediary_conclusions', 'intermediary_conclusions_formalized', 'n_distractors', 'n_premises', 'output', 'plcd_subs', 'predicate_placeholders', 'prefix', 'premises', 'premises_formalized', 'presentation_parameters', 'question', 'reason_statements', 'scheme_variants', 'steps'],\n",
       "    num_rows: 100000\n",
       "})"
      ]
     },
     "execution_count": 52,
     "metadata": {},
     "output_type": "execute_result"
    }
   ],
   "source": [
    "processed_dataset"
   ]
  },
  {
   "cell_type": "code",
   "execution_count": 83,
   "id": "alert-federation",
   "metadata": {},
   "outputs": [
    {
     "data": {
      "application/vnd.jupyter.widget-view+json": {
       "model_id": "b98152c69e9e4d27836cbb68c2e7cf0e",
       "version_major": 2,
       "version_minor": 0
      },
      "text/plain": [
       "HBox(children=(FloatProgress(value=0.0, max=100000.0), HTML(value='')))"
      ]
     },
     "metadata": {},
     "output_type": "display_data"
    },
    {
     "name": "stdout",
     "output_type": "stream",
     "text": [
      "\n"
     ]
    },
    {
     "data": {
      "text/plain": [
       "Dataset({\n",
       "    features: ['id', 'output', 'prefix', 'question'],\n",
       "    num_rows: 100000\n",
       "})"
      ]
     },
     "execution_count": 83,
     "metadata": {},
     "output_type": "execute_result"
    }
   ],
   "source": [
    "processed_dataset = processed_dataset.map(remove_columns=['argdown_index_map', 'argdown_reconstruction', 'argument_source', 'base_scheme_groups', 'conclusion', 'conclusion_formalized', 'conclusion_statements', 'distractors', 'domain_id', 'domain_type', 'entity_placeholders',  'intermediary_conclusions', 'intermediary_conclusions_formalized', 'n_distractors', 'n_premises',  'plcd_subs', 'predicate_placeholders', 'premises', 'premises_formalized', 'presentation_parameters', 'reason_statements', 'scheme_variants', 'steps'])\n",
    "processed_dataset"
   ]
  },
  {
   "cell_type": "code",
   "execution_count": 84,
   "id": "dynamic-novelty",
   "metadata": {},
   "outputs": [
    {
     "data": {
      "text/plain": [
       "DatasetDict({\n",
       "    train: Dataset({\n",
       "        features: ['id', 'output', 'prefix', 'question'],\n",
       "        num_rows: 90000\n",
       "    })\n",
       "    test: Dataset({\n",
       "        features: ['id', 'output', 'prefix', 'question'],\n",
       "        num_rows: 5000\n",
       "    })\n",
       "    dev: Dataset({\n",
       "        features: ['id', 'output', 'prefix', 'question'],\n",
       "        num_rows: 5000\n",
       "    })\n",
       "})"
      ]
     },
     "execution_count": 84,
     "metadata": {},
     "output_type": "execute_result"
    }
   ],
   "source": [
    "processed_dataset = processed_dataset.train_test_split(test_size=0.1)\n",
    "processed_dataset[\"dev\"] = processed_dataset[\"test\"].shard(num_shards=2,index=0)\n",
    "processed_dataset[\"test\"] = processed_dataset[\"test\"].shard(num_shards=2,index=1)\n",
    "processed_dataset"
   ]
  },
  {
   "cell_type": "code",
   "execution_count": 94,
   "id": "nutritional-fusion",
   "metadata": {},
   "outputs": [],
   "source": [
    "import torch\n",
    "dataloader_train= torch.utils.data.DataLoader(processed_dataset[\"train\"], batch_size=1,shuffle=False)\n",
    "dataloader_test= torch.utils.data.DataLoader(processed_dataset[\"test\"], batch_size=1,shuffle=False)\n",
    "dataloader_dev= torch.utils.data.DataLoader(processed_dataset[\"dev\"], batch_size=1,shuffle=False)"
   ]
  },
  {
   "cell_type": "code",
   "execution_count": 101,
   "id": "indonesian-chapter",
   "metadata": {},
   "outputs": [
    {
     "name": "stdout",
     "output_type": "stream",
     "text": [
      "Error in callback <function _WandbInit._resume_backend at 0x14e9a97556a8> (for pre_run_cell):\n"
     ]
    },
    {
     "ename": "Exception",
     "evalue": "The wandb backend process has shutdown",
     "output_type": "error",
     "traceback": [
      "\u001b[0;31m---------------------------------------------------------------------------\u001b[0m",
      "\u001b[0;31mException\u001b[0m                                 Traceback (most recent call last)",
      "\u001b[0;32m/opt/bwhpc/common/jupyter/base/lib/python3.6/site-packages/backcall/backcall.py\u001b[0m in \u001b[0;36madapted\u001b[0;34m(*args, **kwargs)\u001b[0m\n\u001b[1;32m    102\u001b[0m                 \u001b[0mkwargs\u001b[0m\u001b[0;34m.\u001b[0m\u001b[0mpop\u001b[0m\u001b[0;34m(\u001b[0m\u001b[0mname\u001b[0m\u001b[0;34m)\u001b[0m\u001b[0;34m\u001b[0m\u001b[0;34m\u001b[0m\u001b[0m\n\u001b[1;32m    103\u001b[0m \u001b[0;31m#            print(args, kwargs, unmatched_pos, cut_positional, unmatched_kw)\u001b[0m\u001b[0;34m\u001b[0m\u001b[0;34m\u001b[0m\u001b[0;34m\u001b[0m\u001b[0m\n\u001b[0;32m--> 104\u001b[0;31m             \u001b[0;32mreturn\u001b[0m \u001b[0mcallback\u001b[0m\u001b[0;34m(\u001b[0m\u001b[0;34m*\u001b[0m\u001b[0margs\u001b[0m\u001b[0;34m,\u001b[0m \u001b[0;34m**\u001b[0m\u001b[0mkwargs\u001b[0m\u001b[0;34m)\u001b[0m\u001b[0;34m\u001b[0m\u001b[0;34m\u001b[0m\u001b[0m\n\u001b[0m\u001b[1;32m    105\u001b[0m \u001b[0;34m\u001b[0m\u001b[0m\n\u001b[1;32m    106\u001b[0m         \u001b[0;32mreturn\u001b[0m \u001b[0madapted\u001b[0m\u001b[0;34m\u001b[0m\u001b[0;34m\u001b[0m\u001b[0m\n",
      "\u001b[0;32m~/.local/lib/python3.6/site-packages/wandb/sdk/wandb_init.py\u001b[0m in \u001b[0;36m_resume_backend\u001b[0;34m(self)\u001b[0m\n\u001b[1;32m    257\u001b[0m         \u001b[0;32mif\u001b[0m \u001b[0mself\u001b[0m\u001b[0;34m.\u001b[0m\u001b[0mbackend\u001b[0m \u001b[0;32mis\u001b[0m \u001b[0;32mnot\u001b[0m \u001b[0;32mNone\u001b[0m\u001b[0;34m:\u001b[0m\u001b[0;34m\u001b[0m\u001b[0;34m\u001b[0m\u001b[0m\n\u001b[1;32m    258\u001b[0m             \u001b[0mlogger\u001b[0m\u001b[0;34m.\u001b[0m\u001b[0minfo\u001b[0m\u001b[0;34m(\u001b[0m\u001b[0;34m\"resuming backend\"\u001b[0m\u001b[0;34m)\u001b[0m\u001b[0;34m\u001b[0m\u001b[0;34m\u001b[0m\u001b[0m\n\u001b[0;32m--> 259\u001b[0;31m             \u001b[0mself\u001b[0m\u001b[0;34m.\u001b[0m\u001b[0mbackend\u001b[0m\u001b[0;34m.\u001b[0m\u001b[0minterface\u001b[0m\u001b[0;34m.\u001b[0m\u001b[0mpublish_resume\u001b[0m\u001b[0;34m(\u001b[0m\u001b[0;34m)\u001b[0m\u001b[0;34m\u001b[0m\u001b[0;34m\u001b[0m\u001b[0m\n\u001b[0m\u001b[1;32m    260\u001b[0m \u001b[0;34m\u001b[0m\u001b[0m\n\u001b[1;32m    261\u001b[0m     \u001b[0;32mdef\u001b[0m \u001b[0m_jupyter_teardown\u001b[0m\u001b[0;34m(\u001b[0m\u001b[0mself\u001b[0m\u001b[0;34m)\u001b[0m\u001b[0;34m:\u001b[0m\u001b[0;34m\u001b[0m\u001b[0;34m\u001b[0m\u001b[0m\n",
      "\u001b[0;32m~/.local/lib/python3.6/site-packages/wandb/sdk/interface/interface.py\u001b[0m in \u001b[0;36mpublish_resume\u001b[0;34m(self)\u001b[0m\n\u001b[1;32m    589\u001b[0m         \u001b[0mresume\u001b[0m \u001b[0;34m=\u001b[0m \u001b[0mpb\u001b[0m\u001b[0;34m.\u001b[0m\u001b[0mResumeRequest\u001b[0m\u001b[0;34m(\u001b[0m\u001b[0;34m)\u001b[0m\u001b[0;34m\u001b[0m\u001b[0;34m\u001b[0m\u001b[0m\n\u001b[1;32m    590\u001b[0m         \u001b[0mrec\u001b[0m \u001b[0;34m=\u001b[0m \u001b[0mself\u001b[0m\u001b[0;34m.\u001b[0m\u001b[0m_make_request\u001b[0m\u001b[0;34m(\u001b[0m\u001b[0mresume\u001b[0m\u001b[0;34m=\u001b[0m\u001b[0mresume\u001b[0m\u001b[0;34m)\u001b[0m\u001b[0;34m\u001b[0m\u001b[0;34m\u001b[0m\u001b[0m\n\u001b[0;32m--> 591\u001b[0;31m         \u001b[0mself\u001b[0m\u001b[0;34m.\u001b[0m\u001b[0m_publish\u001b[0m\u001b[0;34m(\u001b[0m\u001b[0mrec\u001b[0m\u001b[0;34m)\u001b[0m\u001b[0;34m\u001b[0m\u001b[0;34m\u001b[0m\u001b[0m\n\u001b[0m\u001b[1;32m    592\u001b[0m \u001b[0;34m\u001b[0m\u001b[0m\n\u001b[1;32m    593\u001b[0m     \u001b[0;32mdef\u001b[0m \u001b[0m_publish_run\u001b[0m\u001b[0;34m(\u001b[0m\u001b[0mself\u001b[0m\u001b[0;34m,\u001b[0m \u001b[0mrun\u001b[0m\u001b[0;34m:\u001b[0m \u001b[0mpb\u001b[0m\u001b[0;34m.\u001b[0m\u001b[0mRunRecord\u001b[0m\u001b[0;34m)\u001b[0m \u001b[0;34m->\u001b[0m \u001b[0;32mNone\u001b[0m\u001b[0;34m:\u001b[0m\u001b[0;34m\u001b[0m\u001b[0;34m\u001b[0m\u001b[0m\n",
      "\u001b[0;32m~/.local/lib/python3.6/site-packages/wandb/sdk/interface/interface.py\u001b[0m in \u001b[0;36m_publish\u001b[0;34m(self, record, local)\u001b[0m\n\u001b[1;32m    522\u001b[0m     \u001b[0;32mdef\u001b[0m \u001b[0m_publish\u001b[0m\u001b[0;34m(\u001b[0m\u001b[0mself\u001b[0m\u001b[0;34m,\u001b[0m \u001b[0mrecord\u001b[0m\u001b[0;34m:\u001b[0m \u001b[0mpb\u001b[0m\u001b[0;34m.\u001b[0m\u001b[0mRecord\u001b[0m\u001b[0;34m,\u001b[0m \u001b[0mlocal\u001b[0m\u001b[0;34m:\u001b[0m \u001b[0mbool\u001b[0m \u001b[0;34m=\u001b[0m \u001b[0;32mNone\u001b[0m\u001b[0;34m)\u001b[0m \u001b[0;34m->\u001b[0m \u001b[0;32mNone\u001b[0m\u001b[0;34m:\u001b[0m\u001b[0;34m\u001b[0m\u001b[0;34m\u001b[0m\u001b[0m\n\u001b[1;32m    523\u001b[0m         \u001b[0;32mif\u001b[0m \u001b[0mself\u001b[0m\u001b[0;34m.\u001b[0m\u001b[0m_process\u001b[0m \u001b[0;32mand\u001b[0m \u001b[0;32mnot\u001b[0m \u001b[0mself\u001b[0m\u001b[0;34m.\u001b[0m\u001b[0m_process\u001b[0m\u001b[0;34m.\u001b[0m\u001b[0mis_alive\u001b[0m\u001b[0;34m(\u001b[0m\u001b[0;34m)\u001b[0m\u001b[0;34m:\u001b[0m\u001b[0;34m\u001b[0m\u001b[0;34m\u001b[0m\u001b[0m\n\u001b[0;32m--> 524\u001b[0;31m             \u001b[0;32mraise\u001b[0m \u001b[0mException\u001b[0m\u001b[0;34m(\u001b[0m\u001b[0;34m\"The wandb backend process has shutdown\"\u001b[0m\u001b[0;34m)\u001b[0m\u001b[0;34m\u001b[0m\u001b[0;34m\u001b[0m\u001b[0m\n\u001b[0m\u001b[1;32m    525\u001b[0m         \u001b[0;32mif\u001b[0m \u001b[0mlocal\u001b[0m\u001b[0;34m:\u001b[0m\u001b[0;34m\u001b[0m\u001b[0;34m\u001b[0m\u001b[0m\n\u001b[1;32m    526\u001b[0m             \u001b[0mrecord\u001b[0m\u001b[0;34m.\u001b[0m\u001b[0mcontrol\u001b[0m\u001b[0;34m.\u001b[0m\u001b[0mlocal\u001b[0m \u001b[0;34m=\u001b[0m \u001b[0mlocal\u001b[0m\u001b[0;34m\u001b[0m\u001b[0;34m\u001b[0m\u001b[0m\n",
      "\u001b[0;31mException\u001b[0m: The wandb backend process has shutdown"
     ]
    },
    {
     "data": {
      "text/html": [
       "Finishing last run (ID:3hjv0vxr) before initializing another..."
      ],
      "text/plain": [
       "<IPython.core.display.HTML object>"
      ]
     },
     "metadata": {},
     "output_type": "display_data"
    },
    {
     "data": {
      "text/html": [
       "<br/>Waiting for W&B process to finish, PID 4130211<br/>Program ended successfully."
      ],
      "text/plain": [
       "<IPython.core.display.HTML object>"
      ]
     },
     "metadata": {},
     "output_type": "display_data"
    },
    {
     "name": "stderr",
     "output_type": "stream",
     "text": [
      "\u001b[34m\u001b[1mwandb\u001b[0m: \u001b[32m\u001b[41mERROR\u001b[0m Problem finishing run\n",
      "Traceback (most recent call last):\n",
      "  File \"/home/kit/itz/kz1174/.local/lib/python3.6/site-packages/wandb/sdk/wandb_run.py\", line 1502, in _atexit_cleanup\n",
      "    self._on_finish()\n",
      "  File \"/home/kit/itz/kz1174/.local/lib/python3.6/site-packages/wandb/sdk/wandb_run.py\", line 1659, in _on_finish\n",
      "    self._backend.interface.publish_telemetry(self._telemetry_obj)\n",
      "  File \"/home/kit/itz/kz1174/.local/lib/python3.6/site-packages/wandb/sdk/interface/interface.py\", line 231, in publish_telemetry\n",
      "    self._publish(rec)\n",
      "  File \"/home/kit/itz/kz1174/.local/lib/python3.6/site-packages/wandb/sdk/interface/interface.py\", line 524, in _publish\n",
      "    raise Exception(\"The wandb backend process has shutdown\")\n",
      "Exception: The wandb backend process has shutdown\n"
     ]
    },
    {
     "data": {
      "text/html": [
       "...Successfully finished last run (ID:3hjv0vxr). Initializing new run:<br/><br/>"
      ],
      "text/plain": [
       "<IPython.core.display.HTML object>"
      ]
     },
     "metadata": {},
     "output_type": "display_data"
    },
    {
     "data": {
      "text/html": [
       "\n",
       "                Tracking run with wandb version 0.10.27<br/>\n",
       "                Syncing run <strong style=\"color:#cdcd00\">concat_dataset</strong> to <a href=\"https://wandb.ai\" target=\"_blank\">Weights & Biases</a> <a href=\"https://docs.wandb.com/integrations/jupyter.html\" target=\"_blank\">(Documentation)</a>.<br/>\n",
       "                Project page: <a href=\"https://wandb.ai/aaac/dataset_versions\" target=\"_blank\">https://wandb.ai/aaac/dataset_versions</a><br/>\n",
       "                Run page: <a href=\"https://wandb.ai/aaac/dataset_versions/runs/3h4jsybd\" target=\"_blank\">https://wandb.ai/aaac/dataset_versions/runs/3h4jsybd</a><br/>\n",
       "                Run data is saved locally in <code>/pfs/data5/home/kit/itz/kz1174/wandb/run-20210428_123025-3h4jsybd</code><br/><br/>\n",
       "            "
      ],
      "text/plain": [
       "<IPython.core.display.HTML object>"
      ]
     },
     "metadata": {},
     "output_type": "display_data"
    },
    {
     "name": "stderr",
     "output_type": "stream",
     "text": [
      "/opt/bwhpc/common/jupyter/base/lib/python3.6/site-packages/ipykernel_launcher.py:9: TqdmDeprecationWarning: This function will be removed in tqdm==5.0.0\n",
      "Please use `tqdm.notebook.tqdm` instead of `tqdm.tqdm_notebook`\n",
      "  if __name__ == '__main__':\n"
     ]
    },
    {
     "data": {
      "application/vnd.jupyter.widget-view+json": {
       "model_id": "4769e6b017af42ec9d6f2ca216b8079d",
       "version_major": 2,
       "version_minor": 0
      },
      "text/plain": [
       "HBox(children=(FloatProgress(value=0.0, max=90000.0), HTML(value='')))"
      ]
     },
     "metadata": {},
     "output_type": "display_data"
    },
    {
     "name": "stdout",
     "output_type": "stream",
     "text": [
      "\n"
     ]
    },
    {
     "name": "stderr",
     "output_type": "stream",
     "text": [
      "/opt/bwhpc/common/jupyter/base/lib/python3.6/site-packages/ipykernel_launcher.py:17: TqdmDeprecationWarning: This function will be removed in tqdm==5.0.0\n",
      "Please use `tqdm.notebook.tqdm` instead of `tqdm.tqdm_notebook`\n"
     ]
    },
    {
     "data": {
      "application/vnd.jupyter.widget-view+json": {
       "model_id": "153ce9d173d14338b0487634d98298cc",
       "version_major": 2,
       "version_minor": 0
      },
      "text/plain": [
       "HBox(children=(FloatProgress(value=0.0, max=5000.0), HTML(value='')))"
      ]
     },
     "metadata": {},
     "output_type": "display_data"
    },
    {
     "name": "stdout",
     "output_type": "stream",
     "text": [
      "\n"
     ]
    },
    {
     "name": "stderr",
     "output_type": "stream",
     "text": [
      "/opt/bwhpc/common/jupyter/base/lib/python3.6/site-packages/ipykernel_launcher.py:25: TqdmDeprecationWarning: This function will be removed in tqdm==5.0.0\n",
      "Please use `tqdm.notebook.tqdm` instead of `tqdm.tqdm_notebook`\n"
     ]
    },
    {
     "data": {
      "application/vnd.jupyter.widget-view+json": {
       "model_id": "89d1ecf777744027816b74974654e8cf",
       "version_major": 2,
       "version_minor": 0
      },
      "text/plain": [
       "HBox(children=(FloatProgress(value=0.0, max=5000.0), HTML(value='')))"
      ]
     },
     "metadata": {},
     "output_type": "display_data"
    },
    {
     "name": "stderr",
     "output_type": "stream",
     "text": [
      "\u001b[34m\u001b[1mwandb\u001b[0m: Adding directory to artifact (/scratch/slurm_tmpdir/job_19503324/tmpmjs8g9f3)... "
     ]
    },
    {
     "name": "stdout",
     "output_type": "stream",
     "text": [
      "\n"
     ]
    },
    {
     "name": "stderr",
     "output_type": "stream",
     "text": [
      "Done. 1.1s\n"
     ]
    },
    {
     "data": {
      "text/html": [
       "<br/>Waiting for W&B process to finish, PID 4160168<br/>Program ended successfully."
      ],
      "text/plain": [
       "<IPython.core.display.HTML object>"
      ]
     },
     "metadata": {},
     "output_type": "display_data"
    },
    {
     "data": {
      "application/vnd.jupyter.widget-view+json": {
       "model_id": "",
       "version_major": 2,
       "version_minor": 0
      },
      "text/plain": [
       "VBox(children=(Label(value=' 161.55MB of 161.55MB uploaded (0.00MB deduped)\\r'), FloatProgress(value=1.0, max=…"
      ]
     },
     "metadata": {},
     "output_type": "display_data"
    },
    {
     "data": {
      "text/html": [
       "Find user logs for this run at: <code>/pfs/data5/home/kit/itz/kz1174/wandb/run-20210428_123025-3h4jsybd/logs/debug.log</code>"
      ],
      "text/plain": [
       "<IPython.core.display.HTML object>"
      ]
     },
     "metadata": {},
     "output_type": "display_data"
    },
    {
     "data": {
      "text/html": [
       "Find internal logs for this run at: <code>/pfs/data5/home/kit/itz/kz1174/wandb/run-20210428_123025-3h4jsybd/logs/debug-internal.log</code>"
      ],
      "text/plain": [
       "<IPython.core.display.HTML object>"
      ]
     },
     "metadata": {},
     "output_type": "display_data"
    },
    {
     "data": {
      "text/html": [
       "Synced 5 W&B file(s), 0 media file(s), 3 artifact file(s) and 0 other file(s)"
      ],
      "text/plain": [
       "<IPython.core.display.HTML object>"
      ]
     },
     "metadata": {},
     "output_type": "display_data"
    },
    {
     "data": {
      "text/html": [
       "\n",
       "                    <br/>Synced <strong style=\"color:#cdcd00\">concat_dataset</strong>: <a href=\"https://wandb.ai/aaac/dataset_versions/runs/3h4jsybd\" target=\"_blank\">https://wandb.ai/aaac/dataset_versions/runs/3h4jsybd</a><br/>\n",
       "                "
      ],
      "text/plain": [
       "<IPython.core.display.HTML object>"
      ]
     },
     "metadata": {},
     "output_type": "display_data"
    }
   ],
   "source": [
    "import tempfile\n",
    "import json\n",
    "from tqdm import tqdm_notebook\n",
    "run = wandb.init(entity=\"aaac\",project=\"dataset_versions\",name=\"concat_dataset\")\n",
    "\n",
    "with tempfile.TemporaryDirectory() as tempdir: \n",
    "    file_out = os.path.join(tempdir,\"train\"+\".jsonl\")\n",
    "    write_file = open(file_out,'w')\n",
    "    for element in tqdm_notebook(processed_dataset[\"train\"]):\n",
    "        element[\"question\"] = {\"stem\": element[\"question\"] }\n",
    "        write_file.write(json.dumps(element))\n",
    "        write_file.write(\"\\n\")\n",
    "    write_file.close()\n",
    "    \n",
    "    file_out = os.path.join(tempdir,\"test\"+\".jsonl\")\n",
    "    write_file = open(file_out,'w')\n",
    "    for element in tqdm_notebook(processed_dataset[\"test\"]):\n",
    "        element[\"question\"] = {\"stem\": element[\"question\"] }\n",
    "        write_file.write(json.dumps(element))\n",
    "        write_file.write(\"\\n\")\n",
    "    write_file.close()\n",
    "    \n",
    "    file_out = os.path.join(tempdir,\"dev\"+\".jsonl\")\n",
    "    write_file = open(file_out,'w')\n",
    "    for element in tqdm_notebook(processed_dataset[\"dev\"]):\n",
    "        element[\"question\"] = {\"stem\": element[\"question\"] }\n",
    "        write_file.write(json.dumps(element))\n",
    "        write_file.write(\"\\n\")\n",
    "    write_file.close()\n",
    "    \n",
    "    artifact = wandb.Artifact(\"concat_dataset\",type='dataset')\n",
    "    artifact.add_dir(tempdir)\n",
    "    run.log_artifact(artifact)\n",
    "    run.finish()\n",
    "    \n",
    "    "
   ]
  }
 ],
 "metadata": {
  "kernelspec": {
   "display_name": "Python 3",
   "language": "python",
   "name": "python3"
  },
  "language_info": {
   "codemirror_mode": {
    "name": "ipython",
    "version": 3
   },
   "file_extension": ".py",
   "mimetype": "text/x-python",
   "name": "python",
   "nbconvert_exporter": "python",
   "pygments_lexer": "ipython3",
   "version": "3.6.8"
  }
 },
 "nbformat": 4,
 "nbformat_minor": 5
}
