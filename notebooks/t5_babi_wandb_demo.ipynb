{
 "metadata": {
  "language_info": {
   "codemirror_mode": {
    "name": "ipython",
    "version": 3
   },
   "file_extension": ".py",
   "mimetype": "text/x-python",
   "name": "python",
   "nbconvert_exporter": "python",
   "pygments_lexer": "ipython3",
   "version": "3.6.7"
  },
  "orig_nbformat": 2,
  "kernelspec": {
   "name": "python3",
   "display_name": "Python 3.6.7 64-bit ('transformer_tools': conda)",
   "metadata": {
    "interpreter": {
     "hash": "3e6704f2443b66307464ccf1cd6c6f963e34997d206900cbbb1866e2415c5847"
    }
   }
  }
 },
 "nbformat": 4,
 "nbformat_minor": 2,
 "cells": [
  {
   "cell_type": "code",
   "execution_count": 1,
   "metadata": {},
   "outputs": [],
   "source": [
    "\n",
    "# Core Pkgs\n",
    "import os\n",
    "import sys\n",
    "import pandas as pd\n",
    "sys.path.append('../')\n",
    "from optparse import OptionParser,OptionGroup\n",
    "from transformer_tools.T5Classification import params as tparams\n",
    "from transformer_tools import get_config\n",
    "from transformer_tools import LoadT5Classifier\n",
    "from transformer_tools.util.cache import LRUCache\n",
    "\n",
    "CACHE_SIZE = 10000"
   ]
  },
  {
   "cell_type": "code",
   "execution_count": 2,
   "metadata": {},
   "outputs": [],
   "source": [
    "def build_config(wandb_model: str, wandb_entity: str = \"eco-semantics\"):\n",
    "    gen_config = get_config(\"transformer_tools.T5Classification\") ## generic config for T5 model\n",
    "    gen_config.T5_type = 'T5ClassificationMultiQA'\n",
    "    gen_config.max_answer = 100\n",
    "    gen_config.max_seq_len = 400\n",
    "    gen_config.wandb_model = wandb_model\n",
    "    gen_config.wandb_entity = wandb_entity\n",
    "    return gen_config\n",
    "\n",
    "def build_model(config):\n",
    "    model = LoadT5Classifier(config)\n",
    "    return model\n",
    "\n",
    "def get_cache():\n",
    "    cache = LRUCache(CACHE_SIZE)\n",
    "    return cache"
   ]
  },
  {
   "cell_type": "code",
   "execution_count": 3,
   "metadata": {},
   "outputs": [
    {
     "output_type": "stream",
     "name": "stderr",
     "text": [
      "ERROR:wandb.jupyter:Failed to query for notebook name, you can set it manually with the WANDB_NOTEBOOK_NAME environment variable\n",
      "\u001b[34m\u001b[1mwandb\u001b[0m: Currently logged in as: \u001b[33mronentk\u001b[0m (use `wandb login --relogin` to force relogin)\n",
      "\u001b[34m\u001b[1mwandb\u001b[0m: wandb version 0.10.30 is available!  To upgrade, please run:\n",
      "\u001b[34m\u001b[1mwandb\u001b[0m:  $ pip install wandb --upgrade\n"
     ]
    },
    {
     "output_type": "display_data",
     "data": {
      "text/plain": "<IPython.core.display.HTML object>",
      "text/html": "\n                Tracking run with wandb version 0.10.17<br/>\n                Syncing run <strong style=\"color:#cdcd00\">olive-flower-2</strong> to <a href=\"https://wandb.ai\" target=\"_blank\">Weights & Biases</a> <a href=\"https://docs.wandb.com/integrations/jupyter.html\" target=\"_blank\">(Documentation)</a>.<br/>\n                Project page: <a href=\"https://wandb.ai/eco-semantics/transformer_tools-notebooks\" target=\"_blank\">https://wandb.ai/eco-semantics/transformer_tools-notebooks</a><br/>\n                Run page: <a href=\"https://wandb.ai/eco-semantics/transformer_tools-notebooks/runs/5l6bu4eq\" target=\"_blank\">https://wandb.ai/eco-semantics/transformer_tools-notebooks/runs/5l6bu4eq</a><br/>\n                Run data is saved locally in <code>/home/ronent/dev/phd/eco-sem/kyle/transformer_tools/notebooks/wandb/run-20210523_153748-5l6bu4eq</code><br/><br/>\n            "
     },
     "metadata": {}
    },
    {
     "output_type": "stream",
     "name": "stderr",
     "text": [
      "\u001b[34m\u001b[1mwandb\u001b[0m: Downloading large artifact t-b-c-basic_training_1_5k_5e_model:v0, 851.08MB. 7 files... INFO:transformer_tools.T5Model:Download data to: ./artifacts/t-b-c-basic_training_1_5k_5e_model:v0\n"
     ]
    },
    {
     "output_type": "display_data",
     "data": {
      "text/plain": "<IPython.core.display.HTML object>",
      "text/html": "<br/>Waiting for W&B process to finish, PID 40881<br/>Program ended successfully."
     },
     "metadata": {}
    },
    {
     "output_type": "display_data",
     "data": {
      "text/plain": "VBox(children=(Label(value=' 0.00MB of 0.00MB uploaded (0.00MB deduped)\\r'), FloatProgress(value=1.0, max=1.0)…",
      "application/vnd.jupyter.widget-view+json": {
       "version_major": 2,
       "version_minor": 0,
       "model_id": "d8421c95566f4df1a3b4fdcf41b2d758"
      }
     },
     "metadata": {}
    },
    {
     "output_type": "display_data",
     "data": {
      "text/plain": "<IPython.core.display.HTML object>",
      "text/html": "Find user logs for this run at: <code>/home/ronent/dev/phd/eco-sem/kyle/transformer_tools/notebooks/wandb/run-20210523_153748-5l6bu4eq/logs/debug.log</code>"
     },
     "metadata": {}
    },
    {
     "output_type": "display_data",
     "data": {
      "text/plain": "<IPython.core.display.HTML object>",
      "text/html": "Find internal logs for this run at: <code>/home/ronent/dev/phd/eco-sem/kyle/transformer_tools/notebooks/wandb/run-20210523_153748-5l6bu4eq/logs/debug-internal.log</code>"
     },
     "metadata": {}
    },
    {
     "output_type": "display_data",
     "data": {
      "text/plain": "<IPython.core.display.HTML object>",
      "text/html": "Synced 5 W&B file(s), 0 media file(s), 0 artifact file(s) and 0 other file(s)"
     },
     "metadata": {}
    },
    {
     "output_type": "display_data",
     "data": {
      "text/plain": "<IPython.core.display.HTML object>",
      "text/html": "\n                    <br/>Synced <strong style=\"color:#cdcd00\">olive-flower-2</strong>: <a href=\"https://wandb.ai/eco-semantics/transformer_tools-notebooks/runs/5l6bu4eq\" target=\"_blank\">https://wandb.ai/eco-semantics/transformer_tools-notebooks/runs/5l6bu4eq</a><br/>\n                "
     },
     "metadata": {}
    },
    {
     "output_type": "stream",
     "name": "stderr",
     "text": [
      "INFO:transformer_tools.T5Base.T5ClassificationMultiQA:Loaded T5 Tuner model...\n"
     ]
    }
   ],
   "source": [
    "\n",
    "config = build_config(wandb_model=\"eco-semantics/t5-analysis/t-b-c-basic_training_1_5k_5e_model:v0\")\n",
    "model = build_model(config)\n",
    "cache = get_cache()"
   ]
  },
  {
   "cell_type": "code",
   "execution_count": 4,
   "metadata": {},
   "outputs": [
    {
     "output_type": "stream",
     "name": "stderr",
     "text": [
      "INFO:transformer_tools.Base.Text2TextData:Loaded Text2TextData instance with #inputs=1,#targets=1\n",
      "INFO:transformer_tools.T5Base.T5ClassificationMultiQA:prefix=answer:, output size=2,gen func=_classification_step\n"
     ]
    },
    {
     "output_type": "execute_result",
     "data": {
      "text/plain": [
       "['kitchen']"
      ]
     },
     "metadata": {},
     "execution_count": 4
    }
   ],
   "source": [
    "model.query(\"Mary went back to the bedroom. Then she journeyed to the bathroom. Mary travelled to the kitchen. Then she moved to the bedroom. Sandra travelled to the bedroom. Following that she moved to the hallway. Mary journeyed to the hallway. Afterwards she moved to the kitchen. $question$ Where is Mary?\")"
   ]
  },
  {
   "cell_type": "code",
   "execution_count": null,
   "metadata": {},
   "outputs": [],
   "source": []
  }
 ]
}