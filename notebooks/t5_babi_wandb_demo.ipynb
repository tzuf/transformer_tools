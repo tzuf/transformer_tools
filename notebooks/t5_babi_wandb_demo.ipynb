{
 "metadata": {
  "language_info": {
   "codemirror_mode": {
    "name": "ipython",
    "version": 3
   },
   "file_extension": ".py",
   "mimetype": "text/x-python",
   "name": "python",
   "nbconvert_exporter": "python",
   "pygments_lexer": "ipython3",
   "version": "3.6.7"
  },
  "orig_nbformat": 2,
  "kernelspec": {
   "name": "python3",
   "display_name": "Python 3.6.7 64-bit ('transformer_tools': conda)",
   "metadata": {
    "interpreter": {
     "hash": "3e6704f2443b66307464ccf1cd6c6f963e34997d206900cbbb1866e2415c5847"
    }
   }
  }
 },
 "nbformat": 4,
 "nbformat_minor": 2,
 "cells": [
  {
   "cell_type": "code",
   "execution_count": 1,
   "metadata": {},
   "outputs": [],
   "source": [
    "\n",
    "# Core Pkgs\n",
    "import os\n",
    "import sys\n",
    "import pandas as pd\n",
    "sys.path.append('../')\n",
    "from optparse import OptionParser,OptionGroup\n",
    "from transformer_tools.T5Classification import params as tparams\n",
    "from transformer_tools import get_config\n",
    "from transformer_tools import LoadT5Classifier\n",
    "from transformer_tools.util.cache import LRUCache\n",
    "\n",
    "CACHE_SIZE = 10000"
   ]
  },
  {
   "cell_type": "code",
   "execution_count": 2,
   "metadata": {},
   "outputs": [],
   "source": [
    "def build_config(wandb_model: str, wandb_entity: str = \"eco-semantics\"):\n",
    "    gen_config = get_config(\"transformer_tools.T5Classification\") ## generic config for T5 model\n",
    "    gen_config.T5_type = 'T5ClassificationMultiQA'\n",
    "    gen_config.max_answer = 100\n",
    "    gen_config.max_seq_len = 400\n",
    "    gen_config.wandb_model = wandb_model\n",
    "    gen_config.wandb_entity = wandb_entity\n",
    "    return gen_config\n",
    "\n",
    "def build_model(config):\n",
    "    model = LoadT5Classifier(config)\n",
    "    return model\n",
    "\n",
    "def get_cache():\n",
    "    cache = LRUCache(CACHE_SIZE)\n",
    "    return cache"
   ]
  },
  {
   "cell_type": "code",
   "execution_count": 3,
   "metadata": {},
   "outputs": [
    {
     "output_type": "stream",
     "name": "stderr",
     "text": [
      "ERROR:wandb.jupyter:Failed to query for notebook name, you can set it manually with the WANDB_NOTEBOOK_NAME environment variable\n",
      "\u001b[34m\u001b[1mwandb\u001b[0m: Currently logged in as: \u001b[33mronentk\u001b[0m (use `wandb login --relogin` to force relogin)\n",
      "\u001b[34m\u001b[1mwandb\u001b[0m: wandb version 0.10.30 is available!  To upgrade, please run:\n",
      "\u001b[34m\u001b[1mwandb\u001b[0m:  $ pip install wandb --upgrade\n"
     ]
    },
    {
     "output_type": "display_data",
     "data": {
      "text/plain": "<IPython.core.display.HTML object>",
      "text/html": "\n                Tracking run with wandb version 0.10.17<br/>\n                Syncing run <strong style=\"color:#cdcd00\">silvery-deluge-3</strong> to <a href=\"https://wandb.ai\" target=\"_blank\">Weights & Biases</a> <a href=\"https://docs.wandb.com/integrations/jupyter.html\" target=\"_blank\">(Documentation)</a>.<br/>\n                Project page: <a href=\"https://wandb.ai/eco-semantics/transformer_tools-notebooks\" target=\"_blank\">https://wandb.ai/eco-semantics/transformer_tools-notebooks</a><br/>\n                Run page: <a href=\"https://wandb.ai/eco-semantics/transformer_tools-notebooks/runs/12ohasvm\" target=\"_blank\">https://wandb.ai/eco-semantics/transformer_tools-notebooks/runs/12ohasvm</a><br/>\n                Run data is saved locally in <code>/home/ronent/dev/phd/eco-sem/transformer_tools/notebooks/wandb/run-20210524_095044-12ohasvm</code><br/><br/>\n            "
     },
     "metadata": {}
    },
    {
     "output_type": "stream",
     "name": "stderr",
     "text": [
      "\u001b[34m\u001b[1mwandb\u001b[0m: Downloading large artifact t-b-c-basic_training_1_5k_5e_model:v0, 851.08MB. 7 files... INFO:transformer_tools.T5Model:Download data to: /home/ronent/.wandb_cache/t-b-c-basic_training_1_5k_5e_model:v0\n"
     ]
    },
    {
     "output_type": "display_data",
     "data": {
      "text/plain": "<IPython.core.display.HTML object>",
      "text/html": "<br/>Waiting for W&B process to finish, PID 24875<br/>Program ended successfully."
     },
     "metadata": {}
    },
    {
     "output_type": "display_data",
     "data": {
      "text/plain": "VBox(children=(Label(value=' 0.00MB of 0.00MB uploaded (0.00MB deduped)\\r'), FloatProgress(value=1.0, max=1.0)…",
      "application/vnd.jupyter.widget-view+json": {
       "version_major": 2,
       "version_minor": 0,
       "model_id": "28fde3f99ebf4793aaf4f963b3494355"
      }
     },
     "metadata": {}
    },
    {
     "output_type": "display_data",
     "data": {
      "text/plain": "<IPython.core.display.HTML object>",
      "text/html": "Find user logs for this run at: <code>/home/ronent/dev/phd/eco-sem/transformer_tools/notebooks/wandb/run-20210524_095044-12ohasvm/logs/debug.log</code>"
     },
     "metadata": {}
    },
    {
     "output_type": "display_data",
     "data": {
      "text/plain": "<IPython.core.display.HTML object>",
      "text/html": "Find internal logs for this run at: <code>/home/ronent/dev/phd/eco-sem/transformer_tools/notebooks/wandb/run-20210524_095044-12ohasvm/logs/debug-internal.log</code>"
     },
     "metadata": {}
    },
    {
     "output_type": "display_data",
     "data": {
      "text/plain": "<IPython.core.display.HTML object>",
      "text/html": "Synced 5 W&B file(s), 0 media file(s), 0 artifact file(s) and 0 other file(s)"
     },
     "metadata": {}
    },
    {
     "output_type": "display_data",
     "data": {
      "text/plain": "<IPython.core.display.HTML object>",
      "text/html": "\n                    <br/>Synced <strong style=\"color:#cdcd00\">silvery-deluge-3</strong>: <a href=\"https://wandb.ai/eco-semantics/transformer_tools-notebooks/runs/12ohasvm\" target=\"_blank\">https://wandb.ai/eco-semantics/transformer_tools-notebooks/runs/12ohasvm</a><br/>\n                "
     },
     "metadata": {}
    },
    {
     "output_type": "stream",
     "name": "stderr",
     "text": [
      "INFO:transformer_tools.T5Model:updated parameters: Namespace(T5_type='T5ClassificationMultiQA', adafactor=False, adam_epsilon=1e-08, add_explanations=False, add_prefix=False, auto_lr_find=False, callback_monitor='val_score', callback_prefix='checkpoint', checkpoint_path='', classifier_length=4, cloud=False, cuda_device=-1, data_builder='multi_qa', data_dir='', data_subdir='', deterministic=False, dev_eval=False, do_sample=False, drop_last=False, dtype='mcqa', early_stop_decoding=True, early_stopping=True, eval_batch_size=8, eval_name='t-b-c-basic_training_1_5k_5e_eval', evaluator='single_token', fp_16=False, full_answer=False, generate_once=False, generation_prefix='retrieve:', gradient_accumulation_steps=1, learning_rate=0.0003, log_file='pipeline.log', logging='info', mark_kwnowledge=False, max_answer=100, max_explanation=150, max_grad_norm=1.0, max_regenerate=500, max_seq_length=512, min_length=None, model_dir='', model_name='t5_b_c', model_name_or_path='t5-base', n_gpu=1, no_generate_train=False, no_repeat_ngram_size=2, no_shuffle=False, no_special_tokens=False, no_training=False, num_beams=3, num_facts=150, num_train_epochs=3, num_workers=4, opt_level='01', output_dir='', override=False, patience=5, period=1, print_bleu=False, print_output=False, regen_k=3, regenerate_eval=False, remove_checkpoints=False, remove_models=False, retrain_batch=16, save_top_k=1, save_wandb_model=False, seed=42, special_device='cuda', split_explanations=False, target_model='', tensorboard_dir=None, test_eval=False, tokenizer_name_or_path='t5-base', top_k=None, top_p=None, tpu_cores=0, train_batch_size=16, train_eval=False, train_name='generic', verbose=False, wandb_api_key=None, wandb_cache='~/.wandb_cache', wandb_data='eco-semantics/t5_data/basic_training_1_5k:v0', wandb_entity='eco-semantics', wandb_model='', wandb_name='new experiment (default)', wandb_note='empty', wandb_project=None, warmup_steps=0, wdir='', weight_decay=0.0)\n",
      "INFO:transformer_tools.T5Base.T5ClassificationMultiQA:Loaded T5 Tuner model...\n"
     ]
    }
   ],
   "source": [
    "\n",
    "config = build_config(wandb_model=\"eco-semantics/t5-analysis/t-b-c-basic_training_1_5k_5e_model:v0\")\n",
    "model = build_model(config)\n",
    "cache = get_cache()"
   ]
  },
  {
   "cell_type": "code",
   "execution_count": 4,
   "metadata": {},
   "outputs": [
    {
     "output_type": "stream",
     "name": "stderr",
     "text": [
      "INFO:transformer_tools.Base.Text2TextData:Loaded Text2TextData instance with #inputs=1,#targets=1\n",
      "INFO:transformer_tools.T5Base.T5ClassificationMultiQA:prefix=answer:, output size=4,gen func=_classification_step\n"
     ]
    },
    {
     "output_type": "execute_result",
     "data": {
      "text/plain": [
       "['kitchen']"
      ]
     },
     "metadata": {},
     "execution_count": 4
    }
   ],
   "source": [
    "model.query(\"Mary went back to the bedroom. Then she journeyed to the bathroom. Mary travelled to the kitchen. Then she moved to the bedroom. Sandra travelled to the bedroom. Following that she moved to the hallway. Mary journeyed to the hallway. Afterwards she moved to the kitchen. $question$ Where is Mary?\")"
   ]
  },
  {
   "cell_type": "code",
   "execution_count": null,
   "metadata": {},
   "outputs": [],
   "source": []
  }
 ]
}