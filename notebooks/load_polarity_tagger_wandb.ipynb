{
 "cells": [
  {
   "cell_type": "code",
   "execution_count": 2,
   "metadata": {},
   "outputs": [],
   "source": [
    "import sys; sys.path.append('../') #<- for running in current location"
   ]
  },
  {
   "cell_type": "markdown",
   "metadata": {},
   "source": [
    "This just points to the top-level of library, called `transformer_tools`. To install, go this location and simply do `pip install -r requirements.txt` (see further directions in `README.md`, I would suggest using a virtual environment such as [miniconda](https://docs.conda.io/en/latest/miniconda.html)) "
   ]
  },
  {
   "cell_type": "code",
   "execution_count": 3,
   "metadata": {},
   "outputs": [],
   "source": [
    "import logging; logging.basicConfig(level=logging.ERROR) #<- preferred logging preference here"
   ]
  },
  {
   "cell_type": "code",
   "execution_count": 4,
   "metadata": {},
   "outputs": [],
   "source": [
    "from transformer_tools import get_config \n",
    "from transformer_tools.Tagger import TaggerModel "
   ]
  },
  {
   "cell_type": "markdown",
   "metadata": {},
   "source": [
    "Above are the imports needed for building a configuration and the main `TaggerModel` that drives the polarity tagger."
   ]
  },
  {
   "cell_type": "code",
   "execution_count": 7,
   "metadata": {},
   "outputs": [],
   "source": [
    "config = get_config('transformer_tools.Tagger') #<- initialized a generic configuration "
   ]
  },
  {
   "cell_type": "code",
   "execution_count": 8,
   "metadata": {},
   "outputs": [],
   "source": [
    "config.wandb_model = \"polarity_projection/polarity_model_runs/distilbert_combined_model:v0\"\n",
    "config.wandb_entity = \"polarity_projection\""
   ]
  },
  {
   "cell_type": "markdown",
   "metadata": {},
   "source": [
    "To run an existing model, as we do here, what you need to do is specify the location of the target model, `wandb_model`, and the `wandb_entity`. I'm using the platform [wandb](https://wandb.ai/) to host experiments, datasets and models. By installing the packages in `requirements.txt` you are installing the `wandb` Python API, however to get access to this project you also need to register at wandb and provide your `WANDB_API_KEY` (which can be set globally by doing `export WANDB_API_KEY=xxxxxxxxxxxxxx`). The Python API will do the rest for you: automatic download of datasets/models, caching, etc..\n",
    "\n",
    "**AVAILABLE MODELS**\n",
    "\n",
    "I don't have all combinations of models/datasets backed, but here are some I have currently (they can be used by switching `config.wandb_model` above).\n",
    "\n",
    "**roberta_combined_hai_model**, address: [polarity_projection/polarity_model_runs/roberta_combined_hai_model:v0]. A `RoBERTa` model trained on all data concatenated together using Hai's tagger. \n",
    "\n",
    "**roberta_combined_model**, address: [polarity_projection/polarity_model_runs/roberta_combined_model:v0]. Same as above, but uses Eric's tagger output. \n",
    "\n",
    "**distilbert_combined_hai**, address: [polarity_projection/polarity_model_runs/distilbert_combined_hai_model:v0] . Same as above, but uses `DistilBert` model.\n",
    "\n",
    "**distilbert_med_hai**, address: [polarity_projection/polarity_model_runs/distilbert_med_hai_model:v0] . `DistilBert` on MED.\n",
    "\n",
    "**distilbert_larry_synthetc**, address: [polarity_projection/polarity_model_runs/distilbert_larry_synthetic_model:v0], `DistilBert` on Larry's synthetic data."
   ]
  },
  {
   "cell_type": "code",
   "execution_count": 9,
   "metadata": {},
   "outputs": [
    {
     "name": "stderr",
     "output_type": "stream",
     "text": [
      "\u001b[34m\u001b[1mwandb\u001b[0m: Currently logged in as: \u001b[33myakazimir\u001b[0m (use `wandb login --relogin` to force relogin)\n",
      "\u001b[34m\u001b[1mwandb\u001b[0m: wandb version 0.10.19 is available!  To upgrade, please run:\n",
      "\u001b[34m\u001b[1mwandb\u001b[0m:  $ pip install wandb --upgrade\n"
     ]
    },
    {
     "data": {
      "text/html": [
       "\n",
       "                Tracking run with wandb version 0.10.12<br/>\n",
       "                Syncing run <strong style=\"color:#cdcd00\">sparkling-field-12</strong> to <a href=\"https://wandb.ai\" target=\"_blank\">Weights & Biases</a> <a href=\"https://docs.wandb.com/integrations/jupyter.html\" target=\"_blank\">(Documentation)</a>.<br/>\n",
       "                Project page: <a href=\"https://wandb.ai/polarity_projection/transformer_tools-notebooks\" target=\"_blank\">https://wandb.ai/polarity_projection/transformer_tools-notebooks</a><br/>\n",
       "                Run page: <a href=\"https://wandb.ai/polarity_projection/transformer_tools-notebooks/runs/1ty3xv3g\" target=\"_blank\">https://wandb.ai/polarity_projection/transformer_tools-notebooks/runs/1ty3xv3g</a><br/>\n",
       "                Run data is saved locally in <code>/Users/kyler/projects/transformer_tools/notebooks/wandb/run-20210217_123127-1ty3xv3g</code><br/><br/>\n",
       "            "
      ],
      "text/plain": [
       "<IPython.core.display.HTML object>"
      ]
     },
     "metadata": {},
     "output_type": "display_data"
    },
    {
     "name": "stderr",
     "output_type": "stream",
     "text": [
      "\u001b[34m\u001b[1mwandb\u001b[0m: Downloading large artifact distilbert_combined_model:v0, 253.42MB. 9 files... "
     ]
    },
    {
     "data": {
      "text/html": [
       "<br/>Waiting for W&B process to finish, PID 82384<br/>Program ended successfully."
      ],
      "text/plain": [
       "<IPython.core.display.HTML object>"
      ]
     },
     "metadata": {},
     "output_type": "display_data"
    },
    {
     "data": {
      "application/vnd.jupyter.widget-view+json": {
       "model_id": "",
       "version_major": 2,
       "version_minor": 0
      },
      "text/plain": [
       "VBox(children=(Label(value=' 0.00MB of 0.00MB uploaded (0.00MB deduped)\\r'), FloatProgress(value=1.0, max=1.0)…"
      ]
     },
     "metadata": {},
     "output_type": "display_data"
    },
    {
     "data": {
      "text/html": [
       "Find user logs for this run at: <code>/Users/kyler/projects/transformer_tools/notebooks/wandb/run-20210217_123127-1ty3xv3g/logs/debug.log</code>"
      ],
      "text/plain": [
       "<IPython.core.display.HTML object>"
      ]
     },
     "metadata": {},
     "output_type": "display_data"
    },
    {
     "data": {
      "text/html": [
       "Find internal logs for this run at: <code>/Users/kyler/projects/transformer_tools/notebooks/wandb/run-20210217_123127-1ty3xv3g/logs/debug-internal.log</code>"
      ],
      "text/plain": [
       "<IPython.core.display.HTML object>"
      ]
     },
     "metadata": {},
     "output_type": "display_data"
    },
    {
     "data": {
      "text/html": [
       "Synced 5 W&B file(s), 0 media file(s), 0 artifact file(s) and 0 other file(s)"
      ],
      "text/plain": [
       "<IPython.core.display.HTML object>"
      ]
     },
     "metadata": {},
     "output_type": "display_data"
    },
    {
     "data": {
      "text/html": [
       "\n",
       "                    <br/>Synced <strong style=\"color:#cdcd00\">sparkling-field-12</strong>: <a href=\"https://wandb.ai/polarity_projection/transformer_tools-notebooks/runs/1ty3xv3g\" target=\"_blank\">https://wandb.ai/polarity_projection/transformer_tools-notebooks/runs/1ty3xv3g</a><br/>\n",
       "                "
      ],
      "text/plain": [
       "<IPython.core.display.HTML object>"
      ]
     },
     "metadata": {},
     "output_type": "display_data"
    }
   ],
   "source": [
    "model = TaggerModel(config)"
   ]
  },
  {
   "cell_type": "code",
   "execution_count": 10,
   "metadata": {},
   "outputs": [
    {
     "data": {
      "text/plain": [
       "'Every↑ company= failed↑ to↑ make↓ a↓ profit↓'"
      ]
     },
     "execution_count": 10,
     "metadata": {},
     "output_type": "execute_result"
    }
   ],
   "source": [
    "model.query(\"Every company failed to make a profit\")"
   ]
  },
  {
   "cell_type": "markdown",
   "metadata": {},
   "source": [
    "As shown above, you can query the model by doing `model.query(target_string)` (in this case, the model gets the analysis wrong). This will return an arrow tagged string; the option `convert_to_string=False` (see below) will print out a list representation with the original tag types.  "
   ]
  },
  {
   "cell_type": "code",
   "execution_count": 11,
   "metadata": {},
   "outputs": [
    {
     "data": {
      "text/plain": [
       "[('Every', '↑', 0.99168396),\n",
       " ('company', '=', 0.92892534),\n",
       " ('failed', '↑', 0.9571423),\n",
       " ('to', '↑', 0.55873585),\n",
       " ('make', '↓', 0.6602871),\n",
       " ('a', '↓', 0.52001804),\n",
       " ('profit', '↓', 0.6960268)]"
      ]
     },
     "execution_count": 11,
     "metadata": {},
     "output_type": "execute_result"
    }
   ],
   "source": [
    "model.query(\"Every company failed to make a profit\",convert_to_string=False)"
   ]
  },
  {
   "cell_type": "code",
   "execution_count": 12,
   "metadata": {},
   "outputs": [
    {
     "data": {
      "text/plain": [
       "'Every↑ dog↓ ran↑ in↑ the↑ yard='"
      ]
     },
     "execution_count": 12,
     "metadata": {},
     "output_type": "execute_result"
    }
   ],
   "source": [
    "model.query(\"Every dog ran in the yard\")"
   ]
  },
  {
   "cell_type": "code",
   "execution_count": 13,
   "metadata": {},
   "outputs": [
    {
     "data": {
      "text/plain": [
       "'Every↑ doctor= knew↑ a↑ nurse↑'"
      ]
     },
     "execution_count": 13,
     "metadata": {},
     "output_type": "execute_result"
    }
   ],
   "source": [
    "model.query(\"Every doctor knew a nurse\")"
   ]
  },
  {
   "cell_type": "code",
   "execution_count": 14,
   "metadata": {},
   "outputs": [
    {
     "data": {
      "text/plain": [
       "'No↑ alien↓ died↓ without↓ reading↑ news↑ magazines↑'"
      ]
     },
     "execution_count": 14,
     "metadata": {},
     "output_type": "execute_result"
    }
   ],
   "source": [
    "model.query(\"No alien died without reading news magazines\")"
   ]
  },
  {
   "cell_type": "code",
   "execution_count": 15,
   "metadata": {},
   "outputs": [
    {
     "data": {
      "text/plain": [
       "\"It↑ 's↓ not↑ a↓ crime↓ to↓ steal↓ from↓ a↓ thief↓\""
      ]
     },
     "execution_count": 15,
     "metadata": {},
     "output_type": "execute_result"
    }
   ],
   "source": [
    "model.query(\"It 's not a crime to steal from a thief\")"
   ]
  },
  {
   "cell_type": "code",
   "execution_count": 16,
   "metadata": {},
   "outputs": [
    {
     "data": {
      "text/plain": [
       "[('It', '↑', 0.8468745),\n",
       " (\"'s\", '↓', 0.9052322),\n",
       " ('not', '↑', 0.7273171),\n",
       " ('a', '↓', 0.9505269),\n",
       " ('crime', '↓', 0.9752001),\n",
       " ('to', '↓', 0.9190763),\n",
       " ('steal', '↓', 0.97653013),\n",
       " ('from', '↓', 0.9277706),\n",
       " ('a', '↓', 0.9128494),\n",
       " ('thief', '↓', 0.9567506)]"
      ]
     },
     "execution_count": 16,
     "metadata": {},
     "output_type": "execute_result"
    }
   ],
   "source": [
    "model.query(\n",
    "    \"It 's not a crime to steal from a thief\",\n",
    "    convert_to_string=False\n",
    ")"
   ]
  },
  {
   "cell_type": "code",
   "execution_count": 17,
   "metadata": {},
   "outputs": [
    {
     "data": {
      "text/plain": [
       "True"
      ]
     },
     "execution_count": 17,
     "metadata": {},
     "output_type": "execute_result"
    }
   ],
   "source": [
    " model.model.args.use_multiprocessing"
   ]
  },
  {
   "cell_type": "code",
   "execution_count": 23,
   "metadata": {},
   "outputs": [
    {
     "data": {
      "text/plain": [
       "'Every↑ X↑ company= failed↑ to↑ be↓ profitable↓'"
      ]
     },
     "execution_count": 23,
     "metadata": {},
     "output_type": "execute_result"
    }
   ],
   "source": [
    "model.query(\"At least 3 \")"
   ]
  },
  {
   "cell_type": "markdown",
   "metadata": {},
   "source": []
  }
 ],
 "metadata": {
  "kernelspec": {
   "display_name": "Python 3",
   "language": "python",
   "name": "python3"
  },
  "language_info": {
   "codemirror_mode": {
    "name": "ipython",
    "version": 3
   },
   "file_extension": ".py",
   "mimetype": "text/x-python",
   "name": "python",
   "nbconvert_exporter": "python",
   "pygments_lexer": "ipython3",
   "version": "3.6.7"
  }
 },
 "nbformat": 4,
 "nbformat_minor": 4
}
