{
 "cells": [
  {
   "cell_type": "code",
   "execution_count": 17,
   "metadata": {},
   "outputs": [],
   "source": [
    "import sys; sys.path.append('../') #<- for running in current location"
   ]
  },
  {
   "cell_type": "markdown",
   "metadata": {},
   "source": [
    "This just points to the top-level of library, called `transformer_tools`. To install, go this location and simply do `pip install -r requirements.txt` (see further directions in `README.md`, I would suggest using a virtual environment such as [miniconda](https://docs.conda.io/en/latest/miniconda.html)) "
   ]
  },
  {
   "cell_type": "code",
   "execution_count": 10,
   "metadata": {},
   "outputs": [],
   "source": [
    "import logging; logging.basicConfig(level=logging.ERROR) #<- preferred logging preference here"
   ]
  },
  {
   "cell_type": "code",
   "execution_count": 18,
   "metadata": {},
   "outputs": [],
   "source": [
    "from transformer_tools import get_config \n",
    "from transformer_tools.Tagger import TaggerModel "
   ]
  },
  {
   "cell_type": "markdown",
   "metadata": {},
   "source": [
    "Above are the imports needed for building a configuration and the main `TaggerModel` that drives the polarity tagger."
   ]
  },
  {
   "cell_type": "code",
   "execution_count": 12,
   "metadata": {},
   "outputs": [],
   "source": [
    "config = get_config('transformer_tools.Tagger') #<- initialized a generic configuration "
   ]
  },
  {
   "cell_type": "code",
   "execution_count": 13,
   "metadata": {},
   "outputs": [],
   "source": [
    "config.wandb_model = \"polarity_projection/polarity_model_runs/distilbert_combined_model:v0\"\n",
    "config.wandb_entity = \"polarity_projection\""
   ]
  },
  {
   "cell_type": "markdown",
   "metadata": {},
   "source": [
    "To run an existing model, as we do here, what you need to do is specify the location of the target model, `wandb_model`, and the `wandb_entity`. I'm using the platform [wandb](https://wandb.ai/) to host experiments, datasets and models. By installing the packages in `requirements.txt` you are installing the `wandb` Python API, however to get access to this project you also need to register at wandb and provide your `WANDB_API_KEY` (which can be set globally by doing `export WANDB_API_KEY=xxxxxxxxxxxxxx`). The Python API will do the rest for you: automatic download of datasets/models, caching, etc.. "
   ]
  },
  {
   "cell_type": "code",
   "execution_count": 14,
   "metadata": {},
   "outputs": [
    {
     "name": "stderr",
     "output_type": "stream",
     "text": [
      "\u001b[34m\u001b[1mwandb\u001b[0m: wandb version 0.10.18 is available!  To upgrade, please run:\n",
      "\u001b[34m\u001b[1mwandb\u001b[0m:  $ pip install wandb --upgrade\n"
     ]
    },
    {
     "data": {
      "text/html": [
       "\n",
       "                Tracking run with wandb version 0.10.12<br/>\n",
       "                Syncing run <strong style=\"color:#cdcd00\">deep-paper-3</strong> to <a href=\"https://wandb.ai\" target=\"_blank\">Weights & Biases</a> <a href=\"https://docs.wandb.com/integrations/jupyter.html\" target=\"_blank\">(Documentation)</a>.<br/>\n",
       "                Project page: <a href=\"https://wandb.ai/polarity_projection/transformer_tools-notebooks\" target=\"_blank\">https://wandb.ai/polarity_projection/transformer_tools-notebooks</a><br/>\n",
       "                Run page: <a href=\"https://wandb.ai/polarity_projection/transformer_tools-notebooks/runs/cw4d7m3a\" target=\"_blank\">https://wandb.ai/polarity_projection/transformer_tools-notebooks/runs/cw4d7m3a</a><br/>\n",
       "                Run data is saved locally in <code>/Users/kyler/projects/transformer_tools/notebooks/wandb/run-20210210_163738-cw4d7m3a</code><br/><br/>\n",
       "            "
      ],
      "text/plain": [
       "<IPython.core.display.HTML object>"
      ]
     },
     "metadata": {},
     "output_type": "display_data"
    },
    {
     "name": "stderr",
     "output_type": "stream",
     "text": [
      "\u001b[34m\u001b[1mwandb\u001b[0m: Downloading large artifact distilbert_combined_model:v0, 253.42MB. 9 files... "
     ]
    },
    {
     "data": {
      "text/html": [
       "<br/>Waiting for W&B process to finish, PID 25100<br/>Program ended successfully."
      ],
      "text/plain": [
       "<IPython.core.display.HTML object>"
      ]
     },
     "metadata": {},
     "output_type": "display_data"
    },
    {
     "data": {
      "application/vnd.jupyter.widget-view+json": {
       "model_id": "",
       "version_major": 2,
       "version_minor": 0
      },
      "text/plain": [
       "VBox(children=(Label(value=' 0.00MB of 0.00MB uploaded (0.00MB deduped)\\r'), FloatProgress(value=1.0, max=1.0)…"
      ]
     },
     "metadata": {},
     "output_type": "display_data"
    },
    {
     "data": {
      "text/html": [
       "Find user logs for this run at: <code>/Users/kyler/projects/transformer_tools/notebooks/wandb/run-20210210_163738-cw4d7m3a/logs/debug.log</code>"
      ],
      "text/plain": [
       "<IPython.core.display.HTML object>"
      ]
     },
     "metadata": {},
     "output_type": "display_data"
    },
    {
     "data": {
      "text/html": [
       "Find internal logs for this run at: <code>/Users/kyler/projects/transformer_tools/notebooks/wandb/run-20210210_163738-cw4d7m3a/logs/debug-internal.log</code>"
      ],
      "text/plain": [
       "<IPython.core.display.HTML object>"
      ]
     },
     "metadata": {},
     "output_type": "display_data"
    },
    {
     "data": {
      "text/html": [
       "Synced 5 W&B file(s), 0 media file(s), 0 artifact file(s) and 0 other file(s)"
      ],
      "text/plain": [
       "<IPython.core.display.HTML object>"
      ]
     },
     "metadata": {},
     "output_type": "display_data"
    },
    {
     "data": {
      "text/html": [
       "\n",
       "                    <br/>Synced <strong style=\"color:#cdcd00\">deep-paper-3</strong>: <a href=\"https://wandb.ai/polarity_projection/transformer_tools-notebooks/runs/cw4d7m3a\" target=\"_blank\">https://wandb.ai/polarity_projection/transformer_tools-notebooks/runs/cw4d7m3a</a><br/>\n",
       "                "
      ],
      "text/plain": [
       "<IPython.core.display.HTML object>"
      ]
     },
     "metadata": {},
     "output_type": "display_data"
    }
   ],
   "source": [
    "model = TaggerModel(config)"
   ]
  },
  {
   "cell_type": "code",
   "execution_count": 15,
   "metadata": {},
   "outputs": [
    {
     "data": {
      "text/plain": [
       "'Every↑ company= failed↑ to↑ make↓ a↓ profit↓'"
      ]
     },
     "execution_count": 15,
     "metadata": {},
     "output_type": "execute_result"
    }
   ],
   "source": [
    "model.query(\"Every company failed to make a profit\")"
   ]
  },
  {
   "cell_type": "markdown",
   "metadata": {},
   "source": [
    "As shown above, you can query the model by doing `model.query(target_string)` (in this case, the model gets the analysis wrong). This will return an arrow tagged string; the option `convert_to_string=False` (see below) will print out a list representation with the original tag types.  "
   ]
  },
  {
   "cell_type": "code",
   "execution_count": 16,
   "metadata": {},
   "outputs": [
    {
     "data": {
      "text/plain": [
       "[('Every', 'B-up'),\n",
       " ('company', 'B-='),\n",
       " ('failed', 'B-up'),\n",
       " ('to', 'B-up'),\n",
       " ('make', 'B-down'),\n",
       " ('a', 'B-down'),\n",
       " ('profit', 'B-down')]"
      ]
     },
     "execution_count": 16,
     "metadata": {},
     "output_type": "execute_result"
    }
   ],
   "source": [
    "model.query(\"Every company failed to make a profit\",convert_to_string=False)"
   ]
  },
  {
   "cell_type": "code",
   "execution_count": 20,
   "metadata": {},
   "outputs": [
    {
     "data": {
      "text/plain": [
       "'Every↑ dog↓ ran↑ in↑ the↑ yard='"
      ]
     },
     "execution_count": 20,
     "metadata": {},
     "output_type": "execute_result"
    }
   ],
   "source": [
    "model.query(\"Every dog ran in the yard\")"
   ]
  },
  {
   "cell_type": "code",
   "execution_count": null,
   "metadata": {},
   "outputs": [],
   "source": []
  }
 ],
 "metadata": {
  "kernelspec": {
   "display_name": "Python 3",
   "language": "python",
   "name": "python3"
  },
  "language_info": {
   "codemirror_mode": {
    "name": "ipython",
    "version": 3
   },
   "file_extension": ".py",
   "mimetype": "text/x-python",
   "name": "python",
   "nbconvert_exporter": "python",
   "pygments_lexer": "ipython3",
   "version": "3.6.7"
  }
 },
 "nbformat": 4,
 "nbformat_minor": 4
}
