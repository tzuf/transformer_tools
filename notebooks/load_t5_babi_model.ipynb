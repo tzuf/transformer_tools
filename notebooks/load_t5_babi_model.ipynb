{
 "cells": [
  {
   "cell_type": "code",
   "execution_count": 1,
   "metadata": {},
   "outputs": [],
   "source": [
    "import sys; sys.path.append('../')"
   ]
  },
  {
   "cell_type": "code",
   "execution_count": 2,
   "metadata": {},
   "outputs": [],
   "source": [
    "from transformer_tools import LoadT5Classifier,get_config"
   ]
  },
  {
   "cell_type": "code",
   "execution_count": 3,
   "metadata": {},
   "outputs": [],
   "source": [
    "gen_config = get_config(\"transformer_tools.T5Classification\") ## generic config for T5 model"
   ]
  },
  {
   "cell_type": "code",
   "execution_count": 4,
   "metadata": {},
   "outputs": [],
   "source": [
    "gen_config.target_model = \"../etc/models/small\" ## pointer to target model"
   ]
  },
  {
   "cell_type": "code",
   "execution_count": 5,
   "metadata": {},
   "outputs": [],
   "source": [
    "gen_config.max_answer = 5    ## max output size (just in case)"
   ]
  },
  {
   "cell_type": "code",
   "execution_count": 6,
   "metadata": {},
   "outputs": [],
   "source": [
    "gen_config.max_seq_length = 300 ## max input size (just in case)"
   ]
  },
  {
   "cell_type": "code",
   "execution_count": 7,
   "metadata": {},
   "outputs": [],
   "source": [
    "gen_config.T5_type = \"T5ClassificationMultiQA\""
   ]
  },
  {
   "cell_type": "code",
   "execution_count": 8,
   "metadata": {},
   "outputs": [
    {
     "name": "stderr",
     "output_type": "stream",
     "text": [
      "INFO:transformer_tools.T5Base.T5ClassificationMultiQA:Loaded T5 Tuner model...\n"
     ]
    }
   ],
   "source": [
    "model = LoadT5Classifier(gen_config) ## loads the model, might need gpu"
   ]
  },
  {
   "cell_type": "code",
   "execution_count": 9,
   "metadata": {},
   "outputs": [
    {
     "name": "stderr",
     "output_type": "stream",
     "text": [
      "INFO:transformer_tools.Base.Text2TextData:Loaded Text2TextData instance with #inputs=1,#targets=1\n",
      "INFO:transformer_tools.T5Base.T5ClassificationMultiQA:prefix=answer:, output size=2,gen func=_classification_step\n"
     ]
    },
    {
     "data": {
      "text/plain": [
       "['kitchen']"
      ]
     },
     "execution_count": 9,
     "metadata": {},
     "output_type": "execute_result"
    }
   ],
   "source": [
    "model.query(\"Mary went back to the bedroom. Then she journeyed to the bathroom. Mary travelled to the kitchen. Then she moved to the bedroom. Sandra travelled to the bedroom. Following that she moved to the hallway. Mary journeyed to the hallway. Afterwards she moved to the kitchen. $question$ Where is Mary?\")"
   ]
  },
  {
   "cell_type": "code",
   "execution_count": null,
   "metadata": {},
   "outputs": [],
   "source": []
  }
 ],
 "metadata": {
  "kernelspec": {
   "display_name": "Python 3",
   "language": "python",
   "name": "python3"
  },
  "language_info": {
   "codemirror_mode": {
    "name": "ipython",
    "version": 3
   },
   "file_extension": ".py",
   "mimetype": "text/x-python",
   "name": "python",
   "nbconvert_exporter": "python",
   "pygments_lexer": "ipython3",
   "version": "3.6.7"
  }
 },
 "nbformat": 4,
 "nbformat_minor": 4
}
